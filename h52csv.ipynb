{
 "cells": [
  {
   "cell_type": "code",
   "execution_count": 16,
   "metadata": {},
   "outputs": [],
   "source": [
    "import h5py\n",
    "import construct_datasets as cd\n",
    "import numpy as np\n",
    "import pandas as pd\n",
    "import cv2\n",
    "import os"
   ]
  },
  {
   "cell_type": "code",
   "execution_count": 2,
   "metadata": {},
   "outputs": [],
   "source": [
    "train_dir = 'train/train/digitStruct.mat'"
   ]
  },
  {
   "cell_type": "code",
   "execution_count": 3,
   "metadata": {},
   "outputs": [],
   "source": [
    "f = h5py.File(train_dir,'r')"
   ]
  },
  {
   "cell_type": "code",
   "execution_count": 4,
   "metadata": {},
   "outputs": [
    {
     "name": "stderr",
     "output_type": "stream",
     "text": [
      "D:\\graduate\\first\\VRDL\\HW3\\construct_datasets.py:60: H5pyDeprecationWarning: dataset.value has been deprecated. Use dataset[()] instead.\n",
      "  for i in range(len(attr))] if len(attr) > 1 else [attr.value[0][0]]\n"
     ]
    },
    {
     "data": {
      "text/plain": [
       "{'height': [219.0, 219.0],\n",
       " 'label': [1.0, 9.0],\n",
       " 'left': [246.0, 323.0],\n",
       " 'top': [77.0, 81.0],\n",
       " 'width': [81.0, 96.0]}"
      ]
     },
     "execution_count": 4,
     "metadata": {},
     "output_type": "execute_result"
    }
   ],
   "source": [
    "row_dict = cd.get_bbox(0, f)\n",
    "row_dict"
   ]
  },
  {
   "cell_type": "code",
   "execution_count": 6,
   "metadata": {},
   "outputs": [
    {
     "name": "stderr",
     "output_type": "stream",
     "text": [
      "D:\\graduate\\first\\VRDL\\HW3\\construct_datasets.py:52: H5pyDeprecationWarning: dataset.value has been deprecated. Use dataset[()] instead.\n",
      "  return ''.join([chr(v[0]) for v in hdf5_data[name[index][0]].value])\n"
     ]
    },
    {
     "data": {
      "text/plain": [
       "'1.png'"
      ]
     },
     "execution_count": 6,
     "metadata": {},
     "output_type": "execute_result"
    }
   ],
   "source": [
    "img_name = cd.get_name(0, f)\n",
    "img_name"
   ]
  },
  {
   "cell_type": "code",
   "execution_count": 7,
   "metadata": {},
   "outputs": [
    {
     "data": {
      "text/plain": [
       "{'height': [219.0, 219.0],\n",
       " 'img_name': '1.png',\n",
       " 'label': [1.0, 9.0],\n",
       " 'left': [246.0, 323.0],\n",
       " 'top': [77.0, 81.0],\n",
       " 'width': [81.0, 96.0]}"
      ]
     },
     "execution_count": 7,
     "metadata": {},
     "output_type": "execute_result"
    }
   ],
   "source": [
    "row_dict['img_name'] = img_name\n",
    "row_dict"
   ]
  },
  {
   "cell_type": "code",
   "execution_count": 43,
   "metadata": {},
   "outputs": [
    {
     "name": "stderr",
     "output_type": "stream",
     "text": [
      "D:\\graduate\\first\\VRDL\\HW3\\construct_datasets.py:52: H5pyDeprecationWarning: dataset.value has been deprecated. Use dataset[()] instead.\n",
      "  return ''.join([chr(v[0]) for v in hdf5_data[name[index][0]].value])\n",
      "D:\\graduate\\first\\VRDL\\HW3\\construct_datasets.py:60: H5pyDeprecationWarning: dataset.value has been deprecated. Use dataset[()] instead.\n",
      "  for i in range(len(attr))] if len(attr) > 1 else [attr.value[0][0]]\n"
     ]
    }
   ],
   "source": [
    "bbox_df = pd.DataFrame([], columns = ['img_name', 'left', 'top', 'width', 'height', 'label'])\n",
    "for j in range(f['/digitStruct/bbox'].shape[0]):\n",
    "    img_name = cd.get_name(j, f)\n",
    "    row_dict = cd.get_bbox(j, f)\n",
    "    row_dict['img_name'] = img_name\n",
    "    all_rows = pd.DataFrame.from_dict(row_dict, orient = 'columns')\n",
    "    all_rows['width'] = all_rows['left'] + all_rows['width']\n",
    "    all_rows['height'] = all_rows['top'] + all_rows['height']\n",
    "    all_rows = all_rows[['img_name', 'left', 'top', 'width', 'height', 'label']]\n",
    "    bbox_df = pd.concat([bbox_df, all_rows])"
   ]
  },
  {
   "cell_type": "code",
   "execution_count": 44,
   "metadata": {},
   "outputs": [],
   "source": [
    "bbox_df = bbox_df.rename(columns={'label':'class_name'})\n",
    "bbox_df = bbox_df.rename(columns={'left':'x1'})\n",
    "bbox_df = bbox_df.rename(columns={'top':'y1'})\n",
    "bbox_df = bbox_df.rename(columns={'width':'x2'})\n",
    "bbox_df = bbox_df.rename(columns={'height':'y2'})"
   ]
  },
  {
   "cell_type": "code",
   "execution_count": 45,
   "metadata": {},
   "outputs": [],
   "source": [
    "bbox_df['x1'] = bbox_df['x1'].astype('int')\n",
    "bbox_df['y2'] = bbox_df['y2'].astype('int')\n",
    "bbox_df['y1'] = bbox_df['y1'].astype('int')\n",
    "bbox_df['x2'] = bbox_df['x2'].astype('int')\n",
    "bbox_df['class_name'] = bbox_df['class_name'].astype('int')"
   ]
  },
  {
   "cell_type": "code",
   "execution_count": 46,
   "metadata": {},
   "outputs": [
    {
     "data": {
      "text/html": [
       "<div>\n",
       "<style scoped>\n",
       "    .dataframe tbody tr th:only-of-type {\n",
       "        vertical-align: middle;\n",
       "    }\n",
       "\n",
       "    .dataframe tbody tr th {\n",
       "        vertical-align: top;\n",
       "    }\n",
       "\n",
       "    .dataframe thead th {\n",
       "        text-align: right;\n",
       "    }\n",
       "</style>\n",
       "<table border=\"1\" class=\"dataframe\">\n",
       "  <thead>\n",
       "    <tr style=\"text-align: right;\">\n",
       "      <th></th>\n",
       "      <th>img_name</th>\n",
       "      <th>x1</th>\n",
       "      <th>y1</th>\n",
       "      <th>x2</th>\n",
       "      <th>y2</th>\n",
       "      <th>class_name</th>\n",
       "    </tr>\n",
       "  </thead>\n",
       "  <tbody>\n",
       "    <tr>\n",
       "      <th>0</th>\n",
       "      <td>1.png</td>\n",
       "      <td>246</td>\n",
       "      <td>77</td>\n",
       "      <td>327</td>\n",
       "      <td>296</td>\n",
       "      <td>1</td>\n",
       "    </tr>\n",
       "    <tr>\n",
       "      <th>1</th>\n",
       "      <td>1.png</td>\n",
       "      <td>323</td>\n",
       "      <td>81</td>\n",
       "      <td>419</td>\n",
       "      <td>300</td>\n",
       "      <td>9</td>\n",
       "    </tr>\n",
       "    <tr>\n",
       "      <th>0</th>\n",
       "      <td>2.png</td>\n",
       "      <td>77</td>\n",
       "      <td>29</td>\n",
       "      <td>100</td>\n",
       "      <td>61</td>\n",
       "      <td>2</td>\n",
       "    </tr>\n",
       "    <tr>\n",
       "      <th>1</th>\n",
       "      <td>2.png</td>\n",
       "      <td>98</td>\n",
       "      <td>25</td>\n",
       "      <td>124</td>\n",
       "      <td>57</td>\n",
       "      <td>3</td>\n",
       "    </tr>\n",
       "    <tr>\n",
       "      <th>0</th>\n",
       "      <td>3.png</td>\n",
       "      <td>17</td>\n",
       "      <td>5</td>\n",
       "      <td>25</td>\n",
       "      <td>20</td>\n",
       "      <td>2</td>\n",
       "    </tr>\n",
       "  </tbody>\n",
       "</table>\n",
       "</div>"
      ],
      "text/plain": [
       "  img_name   x1  y1   x2   y2  class_name\n",
       "0    1.png  246  77  327  296           1\n",
       "1    1.png  323  81  419  300           9\n",
       "0    2.png   77  29  100   61           2\n",
       "1    2.png   98  25  124   57           3\n",
       "0    3.png   17   5   25   20           2"
      ]
     },
     "execution_count": 46,
     "metadata": {},
     "output_type": "execute_result"
    }
   ],
   "source": [
    "bbox_df.head(5)"
   ]
  },
  {
   "cell_type": "code",
   "execution_count": 47,
   "metadata": {},
   "outputs": [
    {
     "data": {
      "text/html": [
       "<div>\n",
       "<style scoped>\n",
       "    .dataframe tbody tr th:only-of-type {\n",
       "        vertical-align: middle;\n",
       "    }\n",
       "\n",
       "    .dataframe tbody tr th {\n",
       "        vertical-align: top;\n",
       "    }\n",
       "\n",
       "    .dataframe thead th {\n",
       "        text-align: right;\n",
       "    }\n",
       "</style>\n",
       "<table border=\"1\" class=\"dataframe\">\n",
       "  <thead>\n",
       "    <tr style=\"text-align: right;\">\n",
       "      <th></th>\n",
       "      <th>img_name</th>\n",
       "      <th>x1</th>\n",
       "      <th>y1</th>\n",
       "      <th>x2</th>\n",
       "      <th>y2</th>\n",
       "      <th>class_name</th>\n",
       "    </tr>\n",
       "  </thead>\n",
       "  <tbody>\n",
       "    <tr>\n",
       "      <th>0</th>\n",
       "      <td>252.png</td>\n",
       "      <td>-1</td>\n",
       "      <td>26</td>\n",
       "      <td>15</td>\n",
       "      <td>60</td>\n",
       "      <td>3</td>\n",
       "    </tr>\n",
       "    <tr>\n",
       "      <th>1</th>\n",
       "      <td>252.png</td>\n",
       "      <td>12</td>\n",
       "      <td>17</td>\n",
       "      <td>36</td>\n",
       "      <td>51</td>\n",
       "      <td>7</td>\n",
       "    </tr>\n",
       "    <tr>\n",
       "      <th>2</th>\n",
       "      <td>252.png</td>\n",
       "      <td>34</td>\n",
       "      <td>6</td>\n",
       "      <td>63</td>\n",
       "      <td>40</td>\n",
       "      <td>10</td>\n",
       "    </tr>\n",
       "  </tbody>\n",
       "</table>\n",
       "</div>"
      ],
      "text/plain": [
       "  img_name  x1  y1  x2  y2  class_name\n",
       "0  252.png  -1  26  15  60           3\n",
       "1  252.png  12  17  36  51           7\n",
       "2  252.png  34   6  63  40          10"
      ]
     },
     "execution_count": 47,
     "metadata": {},
     "output_type": "execute_result"
    }
   ],
   "source": [
    "bbox_df[bbox_df['img_name'] == '252.png']"
   ]
  },
  {
   "cell_type": "code",
   "execution_count": 48,
   "metadata": {},
   "outputs": [
    {
     "data": {
      "text/plain": [
       "12"
      ]
     },
     "execution_count": 48,
     "metadata": {},
     "output_type": "execute_result"
    }
   ],
   "source": [
    "for i in range(len(bbox_df)):\n",
    "    img = cv2.imread(os.path.join('train/train/',bbox_df.iloc[i, 0]))\n",
    "    height = img.shape[0]\n",
    "    width = img.shape[1]\n",
    "    if bbox_df.iloc[i, 1] < 0:\n",
    "        bbox_df.iloc[i, 1] = 0\n",
    "    if bbox_df.iloc[i, 2] < 0:\n",
    "        bbox_df.iloc[i, 2] = 0\n",
    "    if bbox_df.iloc[i, 3] > width:\n",
    "        bbox_df.iloc[i, 3] = width\n",
    "    if bbox_df.iloc[i, 4] > height:\n",
    "        bbox_df.iloc[i, 4] = height\n",
    "bbox_df.iloc[544, 1]"
   ]
  },
  {
   "cell_type": "code",
   "execution_count": 49,
   "metadata": {},
   "outputs": [
    {
     "data": {
      "text/html": [
       "<div>\n",
       "<style scoped>\n",
       "    .dataframe tbody tr th:only-of-type {\n",
       "        vertical-align: middle;\n",
       "    }\n",
       "\n",
       "    .dataframe tbody tr th {\n",
       "        vertical-align: top;\n",
       "    }\n",
       "\n",
       "    .dataframe thead th {\n",
       "        text-align: right;\n",
       "    }\n",
       "</style>\n",
       "<table border=\"1\" class=\"dataframe\">\n",
       "  <thead>\n",
       "    <tr style=\"text-align: right;\">\n",
       "      <th></th>\n",
       "      <th>img_name</th>\n",
       "      <th>x1</th>\n",
       "      <th>y1</th>\n",
       "      <th>x2</th>\n",
       "      <th>y2</th>\n",
       "      <th>class_name</th>\n",
       "    </tr>\n",
       "  </thead>\n",
       "  <tbody>\n",
       "    <tr>\n",
       "      <th>0</th>\n",
       "      <td>724.png</td>\n",
       "      <td>0</td>\n",
       "      <td>57</td>\n",
       "      <td>43</td>\n",
       "      <td>165</td>\n",
       "      <td>2</td>\n",
       "    </tr>\n",
       "    <tr>\n",
       "      <th>1</th>\n",
       "      <td>724.png</td>\n",
       "      <td>41</td>\n",
       "      <td>60</td>\n",
       "      <td>86</td>\n",
       "      <td>168</td>\n",
       "      <td>7</td>\n",
       "    </tr>\n",
       "  </tbody>\n",
       "</table>\n",
       "</div>"
      ],
      "text/plain": [
       "  img_name  x1  y1  x2   y2  class_name\n",
       "0  724.png   0  57  43  165           2\n",
       "1  724.png  41  60  86  168           7"
      ]
     },
     "execution_count": 49,
     "metadata": {},
     "output_type": "execute_result"
    }
   ],
   "source": [
    "bbox_df[bbox_df['img_name'] == '724.png']"
   ]
  },
  {
   "cell_type": "code",
   "execution_count": 50,
   "metadata": {},
   "outputs": [
    {
     "data": {
      "text/html": [
       "<div>\n",
       "<style scoped>\n",
       "    .dataframe tbody tr th:only-of-type {\n",
       "        vertical-align: middle;\n",
       "    }\n",
       "\n",
       "    .dataframe tbody tr th {\n",
       "        vertical-align: top;\n",
       "    }\n",
       "\n",
       "    .dataframe thead th {\n",
       "        text-align: right;\n",
       "    }\n",
       "</style>\n",
       "<table border=\"1\" class=\"dataframe\">\n",
       "  <thead>\n",
       "    <tr style=\"text-align: right;\">\n",
       "      <th></th>\n",
       "      <th>img_name</th>\n",
       "      <th>x1</th>\n",
       "      <th>y1</th>\n",
       "      <th>x2</th>\n",
       "      <th>y2</th>\n",
       "      <th>class_name</th>\n",
       "    </tr>\n",
       "  </thead>\n",
       "  <tbody>\n",
       "    <tr>\n",
       "      <th>0</th>\n",
       "      <td>1.png</td>\n",
       "      <td>246</td>\n",
       "      <td>77</td>\n",
       "      <td>327</td>\n",
       "      <td>296</td>\n",
       "      <td>1</td>\n",
       "    </tr>\n",
       "    <tr>\n",
       "      <th>1</th>\n",
       "      <td>1.png</td>\n",
       "      <td>323</td>\n",
       "      <td>81</td>\n",
       "      <td>419</td>\n",
       "      <td>300</td>\n",
       "      <td>9</td>\n",
       "    </tr>\n",
       "    <tr>\n",
       "      <th>0</th>\n",
       "      <td>2.png</td>\n",
       "      <td>77</td>\n",
       "      <td>29</td>\n",
       "      <td>100</td>\n",
       "      <td>61</td>\n",
       "      <td>2</td>\n",
       "    </tr>\n",
       "    <tr>\n",
       "      <th>1</th>\n",
       "      <td>2.png</td>\n",
       "      <td>98</td>\n",
       "      <td>25</td>\n",
       "      <td>124</td>\n",
       "      <td>57</td>\n",
       "      <td>3</td>\n",
       "    </tr>\n",
       "    <tr>\n",
       "      <th>0</th>\n",
       "      <td>3.png</td>\n",
       "      <td>17</td>\n",
       "      <td>5</td>\n",
       "      <td>25</td>\n",
       "      <td>20</td>\n",
       "      <td>2</td>\n",
       "    </tr>\n",
       "  </tbody>\n",
       "</table>\n",
       "</div>"
      ],
      "text/plain": [
       "  img_name   x1  y1   x2   y2  class_name\n",
       "0    1.png  246  77  327  296           1\n",
       "1    1.png  323  81  419  300           9\n",
       "0    2.png   77  29  100   61           2\n",
       "1    2.png   98  25  124   57           3\n",
       "0    3.png   17   5   25   20           2"
      ]
     },
     "execution_count": 50,
     "metadata": {},
     "output_type": "execute_result"
    }
   ],
   "source": [
    "bbox_df.head(5)"
   ]
  },
  {
   "cell_type": "code",
   "execution_count": 51,
   "metadata": {},
   "outputs": [],
   "source": [
    "bbox_df.to_csv('train_data.csv', index = False, header = False)"
   ]
  },
  {
   "cell_type": "code",
   "execution_count": 136,
   "metadata": {},
   "outputs": [],
   "source": [
    "class_name = [10, 1, 2, 3, 4, 5, 6, 7, 8, 9]\n",
    "id = [0, 1, 2, 3, 4, 5, 6, 7, 8, 9]\n",
    "class_dict = {\n",
    "                \"class_name\": class_name,\n",
    "                \"id\": id\n",
    "}\n",
    "class_df = pd.DataFrame(class_dict)"
   ]
  },
  {
   "cell_type": "code",
   "execution_count": 162,
   "metadata": {},
   "outputs": [],
   "source": [
    "class_df.to_csv('train/train/class.csv', index = False, header = False)"
   ]
  },
  {
   "cell_type": "code",
   "execution_count": 153,
   "metadata": {},
   "outputs": [
    {
     "data": {
      "text/html": [
       "<div>\n",
       "<style scoped>\n",
       "    .dataframe tbody tr th:only-of-type {\n",
       "        vertical-align: middle;\n",
       "    }\n",
       "\n",
       "    .dataframe tbody tr th {\n",
       "        vertical-align: top;\n",
       "    }\n",
       "\n",
       "    .dataframe thead th {\n",
       "        text-align: right;\n",
       "    }\n",
       "</style>\n",
       "<table border=\"1\" class=\"dataframe\">\n",
       "  <thead>\n",
       "    <tr style=\"text-align: right;\">\n",
       "      <th></th>\n",
       "      <th>class_name</th>\n",
       "      <th>id</th>\n",
       "    </tr>\n",
       "  </thead>\n",
       "  <tbody>\n",
       "    <tr>\n",
       "      <th>0</th>\n",
       "      <td>10</td>\n",
       "      <td>0</td>\n",
       "    </tr>\n",
       "    <tr>\n",
       "      <th>1</th>\n",
       "      <td>1</td>\n",
       "      <td>1</td>\n",
       "    </tr>\n",
       "    <tr>\n",
       "      <th>2</th>\n",
       "      <td>2</td>\n",
       "      <td>2</td>\n",
       "    </tr>\n",
       "  </tbody>\n",
       "</table>\n",
       "</div>"
      ],
      "text/plain": [
       "   class_name  id\n",
       "0          10   0\n",
       "1           1   1\n",
       "2           2   2"
      ]
     },
     "execution_count": 153,
     "metadata": {},
     "output_type": "execute_result"
    }
   ],
   "source": [
    "class_df.head(3)"
   ]
  },
  {
   "cell_type": "code",
   "execution_count": null,
   "metadata": {},
   "outputs": [],
   "source": []
  }
 ],
 "metadata": {
  "kernelspec": {
   "display_name": "Python (tensorflow-gpu)",
   "language": "python",
   "name": "tensorflow-gpu"
  },
  "language_info": {
   "codemirror_mode": {
    "name": "ipython",
    "version": 3
   },
   "file_extension": ".py",
   "mimetype": "text/x-python",
   "name": "python",
   "nbconvert_exporter": "python",
   "pygments_lexer": "ipython3",
   "version": "3.6.4"
  }
 },
 "nbformat": 4,
 "nbformat_minor": 2
}
